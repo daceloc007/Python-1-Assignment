{
 "cells": [
  {
   "cell_type": "code",
   "execution_count": null,
   "metadata": {},
   "outputs": [],
   "source": [
    "jan_sales = [1834,1918,812,1680,2492,2776,2390,2297]\n",
    "feb_sales = [2148,1745,2190,1863,2589,2345,2724,2239,2785,1483,2038,2021]\n",
    "mar_sales = [1968,1718,1634,2126,1252,2538,2837,1223,2034,1611,2791]\n",
    "apr_sales = [2496,2733,706,2386,3382,1844,1440,2594,1978,2023,2559,1577]\n",
    "may_sales = [2832,1681,1954,1801,2294,1732,1638,1949,2676,2329,2370]\n",
    "jun_sales = [2335,2538,2186,2186,2622,2564,1269,3124,1286,1689,2627,1345]\n",
    "jul_sales = [1651,1957,853,2229,2990,3148,2917,952,1583,2447,2491]\n",
    "aug_sales = [2520,2540,1756,1562,972,2258,1413,1779,2503,2860]\n",
    "sep_sales = [1827,2003,1349,1858,1370,1076,2897,2238,91,1951,2509,2933]\n",
    "oct_sales = [1273,3169,1192,2219,2195,3157,2912,2012,722,922]\n",
    "nov_sales = [1827,2003,1349,1858,1370,1076,2897,2238,91,1951,2509,2933]\n",
    "dec_sales = [2200,2460,1260,3157,2912,2012,722,922]"
   ]
  },
  {
   "cell_type": "code",
   "execution_count": 62,
   "metadata": {},
   "outputs": [
    {
     "data": {
      "text/plain": [
       "20"
      ]
     },
     "execution_count": 62,
     "metadata": {},
     "output_type": "execute_result"
    }
   ],
   "source": [
    "len((jan_sales)+(feb_sales))"
   ]
  },
  {
   "cell_type": "code",
   "execution_count": 27,
   "metadata": {},
   "outputs": [],
   "source": [
    "t_jan_sales=sum(jan_sales)\n",
    "t_feb_sales=sum(feb_sales)\n",
    "t_mar_sales=sum(mar_sales)\n",
    "t_apr_sales=sum(apr_sales)\n",
    "t_may_sales=sum(may_sales)\n",
    "t_jun_sales=sum(jun_sales)\n",
    "t_jul_sales=sum(jul_sales)\n",
    "t_aug_sales=sum(aug_sales)\n",
    "t_sep_sales=sum(sep_sales)\n",
    "t_oct_sales=sum(oct_sales)\n",
    "t_nov_sales=sum(nov_sales)\n",
    "t_dec_sales=sum(dec_sales)"
   ]
  },
  {
   "cell_type": "code",
   "execution_count": 32,
   "metadata": {},
   "outputs": [
    {
     "name": "stdout",
     "output_type": "stream",
     "text": [
      "16199\n",
      "26170\n",
      "21732\n",
      "25718\n",
      "23256\n",
      "25771\n",
      "23218\n",
      "20163\n",
      "22102\n",
      "19773\n",
      "22102\n",
      "15645\n"
     ]
    }
   ],
   "source": [
    "print(t_jan_sales)\n",
    "print(t_feb_sales)\n",
    "print(t_mar_sales)\n",
    "print(t_apr_sales)\n",
    "print(t_may_sales)\n",
    "print(t_jun_sales)\n",
    "print(t_jul_sales)\n",
    "print(t_aug_sales)\n",
    "print(t_sep_sales)\n",
    "print(t_oct_sales)\n",
    "print(t_nov_sales)\n",
    "print(t_dec_sales)"
   ]
  },
  {
   "cell_type": "code",
   "execution_count": 33,
   "metadata": {},
   "outputs": [],
   "source": [
    "total_anuary_sales=t_jan_sales+t_feb_sales+t_mar_sales+t_apr_sales+t_may_sales+t_jun_sales+t_jul_sales+t_aug_sales+t_sep_sales+t_oct_sales+t_nov_sales+t_dec_sales"
   ]
  },
  {
   "cell_type": "code",
   "execution_count": 34,
   "metadata": {
    "scrolled": true
   },
   "outputs": [
    {
     "name": "stdout",
     "output_type": "stream",
     "text": [
      "261849\n"
     ]
    }
   ],
   "source": [
    "print(total_anuary_sales)"
   ]
  },
  {
   "cell_type": "code",
   "execution_count": 67,
   "metadata": {},
   "outputs": [
    {
     "name": "stdout",
     "output_type": "stream",
     "text": [
      "129\n"
     ]
    }
   ],
   "source": [
    "Unidades_vendidas=len((jan_sales)+(feb_sales)+(mar_sales)+(apr_sales)+(may_sales)+(jun_sales)+(jul_sales)+(aug_sales)+(sep_sales)+(oct_sales)+(nov_sales)+(dec_sales))\n",
    "print(Unidades_vendidas)"
   ]
  },
  {
   "cell_type": "code",
   "execution_count": 65,
   "metadata": {},
   "outputs": [
    {
     "name": "stdout",
     "output_type": "stream",
     "text": [
      "Enter porcentaje de cost:50%\n"
     ]
    }
   ],
   "source": [
    "porcentaje_cost = input(\"Enter porcentaje de cost:\")"
   ]
  },
  {
   "cell_type": "code",
   "execution_count": 70,
   "metadata": {},
   "outputs": [
    {
     "name": "stdout",
     "output_type": "stream",
     "text": [
      "2029.8372093023256\n"
     ]
    }
   ],
   "source": [
    "precio_promedio=(total_anuary_sales/Unidades_vendidas)\n",
    "print(precio_promedio)"
   ]
  },
  {
   "cell_type": "code",
   "execution_count": null,
   "metadata": {},
   "outputs": [],
   "source": []
  }
 ],
 "metadata": {
  "kernelspec": {
   "display_name": "Python 3",
   "language": "python",
   "name": "python3"
  },
  "language_info": {
   "codemirror_mode": {
    "name": "ipython",
    "version": 3
   },
   "file_extension": ".py",
   "mimetype": "text/x-python",
   "name": "python",
   "nbconvert_exporter": "python",
   "pygments_lexer": "ipython3",
   "version": "3.8.3"
  }
 },
 "nbformat": 4,
 "nbformat_minor": 4
}
