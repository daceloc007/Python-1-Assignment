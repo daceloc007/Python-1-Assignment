{
 "cells": [
  {
   "cell_type": "code",
   "execution_count": 24,
   "metadata": {},
   "outputs": [
    {
     "name": "stdout",
     "output_type": "stream",
     "text": [
      "enter total sales:2000\n"
     ]
    },
    {
     "data": {
      "text/plain": [
       "0.59"
      ]
     },
     "execution_count": 24,
     "metadata": {},
     "output_type": "execute_result"
    }
   ],
   "source": [
    "ventas=input(\"enter total sales:\")\n",
    "precio_promedio=2100\n",
    "porcentaje_costos=0.59\n",
    "float(ventas)\n",
    "float(precio_promedio)\n",
    "float(porcentaje_costos)"
   ]
  },
  {
   "cell_type": "code",
   "execution_count": 39,
   "metadata": {},
   "outputs": [
    {
     "name": "stdout",
     "output_type": "stream",
     "text": [
      "0.41000000000000003\n"
     ]
    }
   ],
   "source": [
    "float(porcentaje_ganancias)\n",
    "porcentaje_ganancias=1-porcentaje_costos\n",
    "print(porcentaje_ganancias)"
   ]
  },
  {
   "cell_type": "code",
   "execution_count": 44,
   "metadata": {},
   "outputs": [
    {
     "name": "stdout",
     "output_type": "stream",
     "text": [
      "1722000.0000000002\n"
     ]
    }
   ],
   "source": [
    "ganancias=float(ventas)*float(precio_promedio)*float(porcentaje_ganancias)\n",
    "print(ganancias)\n"
   ]
  },
  {
   "cell_type": "code",
   "execution_count": 45,
   "metadata": {},
   "outputs": [
    {
     "name": "stdout",
     "output_type": "stream",
     "text": [
      "143500.00000000003\n"
     ]
    }
   ],
   "source": [
    "ganancias_mensuales=ganancias/12\n",
    "print(ganancias_mensuales)"
   ]
  },
  {
   "cell_type": "code",
   "execution_count": 50,
   "metadata": {},
   "outputs": [
    {
     "name": "stdout",
     "output_type": "stream",
     "text": [
      "430500.00000000006\n"
     ]
    }
   ],
   "source": [
    "ganancias_trimestrales=ganancias/4\n",
    "print(ganancias_trimestrales)"
   ]
  }
 ],
 "metadata": {
  "kernelspec": {
   "display_name": "Python 3",
   "language": "python",
   "name": "python3"
  },
  "language_info": {
   "codemirror_mode": {
    "name": "ipython",
    "version": 3
   },
   "file_extension": ".py",
   "mimetype": "text/x-python",
   "name": "python",
   "nbconvert_exporter": "python",
   "pygments_lexer": "ipython3",
   "version": "3.8.3"
  }
 },
 "nbformat": 4,
 "nbformat_minor": 4
}
